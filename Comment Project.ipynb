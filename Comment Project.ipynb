{
 "cells": [
  {
   "cell_type": "code",
   "execution_count": 85,
   "metadata": {
    "collapsed": false
   },
   "outputs": [
   ],
   "source": [
    "import csv\n",
    "import numpy as np"
   ]
  },
  {
   "cell_type": "code",
   "execution_count": 86,
   "metadata": {
    "collapsed": false
   },
   "outputs": [
   ],
   "source": [
    "with open('data\\teacher.csv', 'w') as csvfile:\n",
    "    fout = csv.writer(csvfile)\n",
    "    fout.writerow(['Last Name','First Name','Preferred Name','Preferred Pronoun', 'Preferred Possessive Pronoun', 'Preffered Referal Pronoun', 'Grade','Problem Set 1','Problem Set 2','Problem Set 3','Problem Set 4','Problem Set 5','Problem Set 6','Test 1','Test 2','Test 3','Test 4','Test 5', 'Test 6', 'Final Exam', 'Bank Project', 'Hackathon', 'Readability', 'Cumulative Grade', 'Days Missed', 'Times Visited Teacher', 'Academic Dishonesty', 'Number of Late Assignments'])\n",
    "    fout.writerow(['Song', 'Jonah','Jonah', 'he', 'his', 'him', '12','77','80','86','89','88','90', '79','80','78','85','87','89', '84','90','87', '8', '85','5','False', '0'])\n",
    "    fout.writerow(['Shanno', 'Hugh', 'Hugh', 'he', 'his', 'him', '12', '99', '99.5', '100', '98', '97', '100', '98', '99', '100', '99', '100', '99', '97', '98', '100', '7', '98.4', '0', '0', 'False', '0'])\n",
    "    fout.writerow(['Lian', 'Eric', 'Eric', 'he', 'his', 'him', '11', '62', '69', '33', '51', '73', '71', '64', '68.5', '59', '80', '75', '76.5', '70.5', '80', '65', '5', '67.5', '10', '1', 'True', '5'])\n",
    "# Writing the csv with student information\n",
    "# First row of the csv is headers list\n",
    "# Using 3 examples——a great student, a mediocre student, and a bad student to ensure that the program works for all categories of students"
   ]
  },
  {
   "cell_type": "code",
   "execution_count": 87,
   "metadata": {
    "collapsed": false
   },
   "outputs": [
    {
     "name": "stdout",
     "output_type": "stream",
     "text": [
      "['Last Name', 'First Name', 'Preferred Name', 'Preferred Pronoun', 'Preferred Possessive Pronoun', 'Preffered Referal Pronoun', 'Grade', 'Problem Set 1', 'Problem Set 2', 'Problem Set 3', 'Problem Set 4', 'Problem Set 5', 'Problem Set 6', 'Test 1', 'Test 2', 'Test 3', 'Test 4', 'Test 5', 'Test 6', 'Final Exam', 'Bank Project', 'Hackathon', 'Readability', 'Cumulative Grade', 'Days Missed', 'Times Visited Teacher', 'Academic Dishonesty', 'Number of Late Assignments']\n",
      "['Song', 'Jonah', 'Jonah', 'he', 'his', 'him', '12', '77', '80', '86', '89', '88', '90', '79', '80', '78', '85', '87', '89', '84', '90', '87', '8', '85', '5', 'False', '0']\n",
      "['Shanno', 'Hugh', 'Hugh', 'he', 'his', 'him', '12', '99', '99.5', '100', '98', '97', '100', '98', '99', '100', '99', '100', '99', '97', '98', '100', '7', '98.4', '0', '0', 'False', '0']\n",
      "['Lian', 'Eric', 'Eric', 'he', 'his', 'him', '11', '62', '69', '33', '51', '73', '71', '64', '68.5', '59', '80', '75', '76.5', '70.5', '80', '65', '5', '67.5', '10', '1', 'True', '5']\n"
     ]
    }
   ],
   "source": [
    "students = []\n",
    "for row in open('data\\teacher.csv'):\n",
    "    students.append(row.split(','))\n",
    "for student in students:\n",
    "    student[-1] = student[-1][:-1]\n",
    "    print(student)\n",
    "header = students[0]\n",
    "del students[0]\n",
    "# Creating a student list from the csv file\n",
    "# Each student in students has a sublist of information"
   ]
  },
  {
   "cell_type": "code",
   "execution_count": 88,
   "metadata": {
    "collapsed": false
   },
   "outputs": [
   ],
   "source": [
    "class_description = {'Computer Science I: Python Language' : \"In Computer Science I: Python Language, we covered an introduction to the Python programming language. We learned how to utilize strings, variables, lists, for loops, the range function, if-then statements, logical operators, Boolean variables, imports, packages, functions, dicitonaries, loop exits, while loops, and tuples. For each of our six units, we spent one week learning and practicing the skills of that unit in an assignment, followed by another week to complete a problem qset in which we apply and synthesize the unit's skills at a higher level. Each unit concluded with a test at the end of the problem set week.\"}\n",
    "\n",
    "comp_sci_description = class_description['Computer Science I: Python Language']\n",
    "\n",
    "# Creating a dictionary where the key is the class name and the value is the class description.\n",
    "# Storing the Computer Science I: Python Language class description as a variable so that the description can be easily called.\n",
    "# We wanted to store the class name and description as a dictionary so that the comment generator\n",
    "# could be applicable for multiple classes.\n",
    "# For another class comment, a new class and description could be added to the dictionary."
   ]
  },
  {
   "cell_type": "code",
   "execution_count": 89,
   "metadata": {
    "collapsed": false
   },
   "outputs": [
   ],
   "source": [
    "def letter_grade(num):\n",
    "    '''Plug in a number and get the letter grade that number corresponds to.'''\n",
    "    if num >= 93:\n",
    "        return \"A\"\n",
    "    elif num >= 90:\n",
    "        return \"A-\"\n",
    "    elif num >= 87:\n",
    "        return \"B+\"\n",
    "    elif num >= 83:\n",
    "        return \"B\"\n",
    "    elif num >= 80:\n",
    "        return \"B-\"\n",
    "    elif num >= 77:\n",
    "        return \"C+\"\n",
    "    elif num >= 73:\n",
    "        return \"C\"\n",
    "    elif num >= 70:\n",
    "        return \"C-\"\n",
    "    elif num >= 67:\n",
    "        return \"D+\"\n",
    "    elif num >= 63:\n",
    "        return \"D\"\n",
    "    elif num >= 60:\n",
    "        return \"D-\"\n",
    "    else:\n",
    "        return \"F\"\n",
    "    \n",
    "def proper(num):\n",
    "    '''Enter a number and determine whether 'a' or 'an' should precede it in a sentence.'''\n",
    "    if int(str(num)[0]) == 8 or int(str(num)[0:1]) == 11:\n",
    "        return \"an\"\n",
    "    else:\n",
    "        return \"a\"\n",
    "\n",
    "def p2(grade):\n",
    "    '''Enter a letter grade and determine where 'a' or 'an' should precede it.'''\n",
    "    if grade in ['F', 'A-', 'A']:\n",
    "        return \"an\"\n",
    "    else:\n",
    "        return \"a\"\n",
    "\n",
    "def basic_grade(num):\n",
    "    '''Enter a number and get the less specific letter grade.'''\n",
    "    if num >= 90:\n",
    "        return 'A'\n",
    "    elif num >= 80:\n",
    "        return 'B'\n",
    "    elif num >= 70:\n",
    "        return 'C'\n",
    "    elif num >= 60:\n",
    "        return 'D'\n",
    "    else:\n",
    "        return 'F'"
   ]
  },
  {
   "cell_type": "code",
   "execution_count": 90,
   "metadata": {
    "collapsed": false
   },
   "outputs": [
   ],
   "source": [
    "# Attributes of the student\n",
    "\n",
    "def work_ethic(student):\n",
    "    '''Plug in various information about a student and return a sentence about their work ethic.'''\n",
    "    description = \"\"\n",
    "    if float(student[23]) >= 90 and int(student[-1]) <= 1 and student[-2] == 'False':\n",
    "        description = description + f\"{student[2]} has a stellar work ethic and student habits.\"\n",
    "    elif 80 < float(student[23]) < 90 and int(student[-1]) <= 1 and student[-2] == 'False':\n",
    "        description = description + f\"{student[2]} has a good work ethic, but {student[4]} habits may not be as effective as they could be. {student[3].title()} turns in everything on time, but does not always score well.\"\n",
    "    elif float(student[23]) >= 90 and int(student[-1]) > 1 and student[-2] == 'False':\n",
    "        description = description + f\"{student[2]} could have a better work ethic, but {student[4]} habits appear to be working for {student[5]}\"\n",
    "    elif 80 < float(student[23]) < 90 and int(student[-1]) > 1 and student[-2] == 'False':\n",
    "        description = description + f\"{student[2]} needs to put a little more time and effort into this course if {student[3]} want sto succeed.\"\n",
    "    elif 70 < float(student[23]) < 80 and student[-2] == 'False':\n",
    "        description = description + f\"{student[2]} needs to put a lot more time and effor into this course if {student[3]} wants to succeed.\"\n",
    "    elif float(student[23]) >= 85 and int(student[-1]) <= 1 and student[-2] == 'True':\n",
    "        description = description + f\"{student[2]} has a decent work ethic. At one point {student[3]} committed an egregious mistake, but {student[3]} has done what {student[3]} can to recover.\"\n",
    "    elif float(student[23]) < 70 or student[-2] == 'True':\n",
    "        description = description + f\"So far, {student[2]} has shown that {student[3]} is uninterested in the course and does not want to put in the work. {student[3].title()} must work harder in order to salvage {student[4]} grade.\"\n",
    "    return description\n",
    "\n",
    "\n",
    "def collaboration(student):\n",
    "    '''Plug in the information of a student and return a sentence about how well they work with others.'''\n",
    "    description = \"\"\n",
    "    project_avg = np.mean([float(student[20]), float(student[21])])\n",
    "    if project_avg >= 90:\n",
    "        description = description + f\"{student[2]} collaborates very well with {student[4]} classmates. From the 2 group assignments that we did this semester——the Bank Project and the Hackaton——, {student[2]} had a project average of {project_avg}.\"\n",
    "    elif 80<= project_avg < 90:\n",
    "        description = description + f\"{student[2]} collaborates with {student[4]} classmates to a satisfactory degree. From the 2 group assignments that we did this semester——the Bank Project and the Hackaton——, {student[2]} had a project average of {project_avg}.\"\n",
    "    elif 70<= project_avg < 80:\n",
    "        description = description + f\"{student[2]} struggled to collaborate with {student[4]} classmates. From the 2 group assignments that we did this semester——the Bank Project and the Hackaton——, {student[2]} had a project average of {project_avg}.\"\n",
    "    elif project_avg < 70:\n",
    "        description = description + f\"{student[2]} collaborates very poorly with {student[4]} classmates. {student[4]} groups always had issues with communication and dividing work evenly. From the 2 group assignments that we did this semester——the Bank Project and the Hackaton——, {student[2]} had a project average of {project_avg}.\"\n",
    "    return description\n",
    "\n",
    "\n",
    "def perseverance(student):\n",
    "    '''Plug in the information of a student and return a few sentences about how they have improved and how they have persevered.'''\n",
    "    description = \"\"\n",
    "    test_avg1 = np.mean([float(num) for num in student[13:15]])\n",
    "    test_avg2 = np.mean([float(num) for num in student[16:18]])\n",
    "    ps_avg1 = np.mean([float(num) for num in student[7:9]])\n",
    "    ps_avg2 = np.mean([float(num) for num in student[10:12]])\n",
    "    if test_avg2 > test_avg1 and ps_avg2 > ps_avg1:\n",
    "        description = description + f\"{student[2]} showed excellent perseverance throughout the course. {student[4].title()} test average improved from {test_avg1} in the first quarter to {test_avg2} in the second quarter while {student[4]} problem set average improved from {ps_avg1} in the first quarter to {ps_avg2} in the second quarter.\"\n",
    "    elif test_avg2 > test_avg1 and ps_avg2 < ps_avg1: \n",
    "        description = description + f\"{student[2]} persevered throughout the course, demonstrated by test improvement. {student[4].title()} test average improved from {test_avg1} in the first quarter to {test_avg2} in the second quarter.\"\n",
    "    elif test_avg1 < test_avg1 and ps_avg2 < ps_avg1:\n",
    "        description = description + f\"{student[2]} persevered throughout the course, demonstrated by problem set improvement. {student[4].title()} problem set average improved from {ps_avg1} in the first quarter to {ps_avg2} in the second quarter.\"\n",
    "    return description\n",
    "\n",
    "\n",
    "def seek_help(student):\n",
    "    '''Plug in the information of a student and return a sentence on whether or not the student seeks help and whether or not they need to.'''\n",
    "    description = \"\"\n",
    "    if int(student[-3]) == 0 and float(student[23]) >= 90:\n",
    "        description = f\"{student[2]} never sought help outside of class, but did not need to as {student[3]} seemed to firmly grasp the material.\"\n",
    "    elif 5 >= int(student[-3]) > 0 and float(student[23]) >= 90:\n",
    "        description = f\"{student[2]} does occasionally come to find help outside of class, and it has helped {student[4]} grade.\"\n",
    "    elif int(student[-3]) > 5 and float(student[23]) >= 90:\n",
    "        description = f\"{student[2]} often comes to find help outside of class, and it has helped {student[4]} grade.\"\n",
    "    elif int(student[-3]) == 0 and float(student[23]) < 90:\n",
    "        description = f\"{student[2]} has not yet come to find help outside of class, but probably should at some point.\"\n",
    "    elif 5 >= int(student[-3]) > 0 and float(student[23]) < 90:\n",
    "        description = f\"{student[2]} has come to find help occasionally, but should probably come more often.\"\n",
    "    elif int(student[-3]) > 5 and float(student[23]) < 90:\n",
    "        description = f\"{student[2]} comes to find help often, and should continue to do so.\"\n",
    "    return description\n",
    "\n",
    "# All of these attribute functions will comprise the second paragraph"
   ]
  },
  {
   "cell_type": "code",
   "execution_count": 91,
   "metadata": {
    "collapsed": false
   },
   "outputs": [
   ],
   "source": [
    "def test_grade(student):\n",
    "    '''Plug in the information of a student and return a few sentences on how well the student has been testing and how well they did on the final.'''\n",
    "    description = \"\"\n",
    "    test_avg = np.mean([float(num) for num in student[13:18]])\n",
    "    grades = [basic_grade(float(num)) for num in student[13:18]]\n",
    "    most_common = {}\n",
    "    common_tup = []\n",
    "    for grade in grades:\n",
    "        most_common[grade] = most_common.get(grade, 0) + 1\n",
    "    for key, value in most_common.items():\n",
    "        common_tup.append((value, key))\n",
    "    common_tup.sort(reverse = True)\n",
    "    if test_avg >= 90:\n",
    "        description = f\"{student[2]} has done extremely well on in-class exams; {student[3]} has received {common_tup[0][1]}'s on most tests, \"\n",
    "        if float(student[19]) >= 90:\n",
    "            description = description + f\"including {proper(int(student[19]))} {int(student[19])}% on the final.\"\n",
    "        else:\n",
    "            description = description + f\"with {proper(max([int(num) for num in student[13:18]]))} {max([int(num) for num in student[13:18]])}% as {student[4]} best test score.\"\n",
    "    elif test_avg >= 80:\n",
    "        description = f\"{student[2]} has a little more difficulty with in-class exams; \"\n",
    "        if common_tup[0][1] not in ['A-','A']:\n",
    "            description = description + f\"{student[3]} has received {common_tup[0][1]}'s on most tests, \"\n",
    "            if float(student[19]) < 90:\n",
    "                description = description + f\"including {proper(int(student[19]))} {int(student[19])}% on the final.\"\n",
    "            else:\n",
    "                description = description + f\"but managed to get {proper(int(student[19]))} {int(student[19])}% on the final\"\n",
    "        else:\n",
    "            description = description + f\"{student[3]} has received {common_tup[0][1]}'s on most tests, but has also had many poor tests that have brought {student[4]} grade average down.\"\n",
    "    elif test_avg >= 70:\n",
    "        description = f\"{student[2]} has had a hard time with the in-class exams; \"\n",
    "        if common_tup[0][1] not in ['A-','A']:\n",
    "            description = description + f\"{student[3]} has received {common_tup[0][1]}'s on most tests, \"\n",
    "            if float(student[19]) < 85:\n",
    "                description = description + f\"including {proper(int(student[19]))} {int(student[19])}% on the final.\"\n",
    "            else:\n",
    "                description = description + f\"but managed to get {proper(int(student[19]))} {int(student[19])}% on the final, one of {student[4]} better scores.\"\n",
    "        else:\n",
    "            description = description + f\"{student[3]} has received {common_tup[0][1]}'s on most tests, but has also had many poor tests that have brought {student[4]} grade average down.\"\n",
    "    else:\n",
    "        description = f\"{student[2]} has not performed very well on in-class exams; {student[3]} has mostly received {common_tup[0][1]}'s on tests, including {proper(float(student[19]))} {float(student[19])}% on the final.\"\n",
    "    return description\n",
    "\n",
    "\n",
    "def recommendation(student):\n",
    "    '''Plug in the information of a student and return a few sentences on a clear course of action for the student in the future.'''\n",
    "    description = \"\"\n",
    "    test_avg = np.mean([float(num) for num in student[13:18]])\n",
    "    if 90 <= test_avg:\n",
    "        description = f\"I usually recommend to my students that they come and ask me questions outside of class. But with a test average of {test_avg}, {student[2]} clearly has not needed any extra help yet. Of course, if {student[3]} ever has any questions or needs any help, {student[3]} should not hestitate to come by during office hours or after school. But {student[2]} is clearly a talented computer scientist who independently solves problems very well.\"\n",
    "    elif 80 <= test_avg < 90:\n",
    "        description = f\"With a test average of {test_avg}, I would recommend that {student[2]} comes to ask questions and get extra help. I am always free to answer questions during office hours or after school.\"\n",
    "    elif 80 > test_avg:\n",
    "        description = f\"With a test average of {test_avg}, I urge {student[2]} to come get extra help outside of class. I am always free to answer questions during office hours or after school and I think that more practice would benefit {student[2]} a lot.\"\n",
    "    return description\n",
    "\n",
    "\n",
    "def extension(student):\n",
    "    '''Input student information and return a suggestion for extra work based on student performance'''\n",
    "    description = \"\"\n",
    "    grade = float(student[23])\n",
    "    if grade >= 93:\n",
    "        description = f\"{student[2]} is doing excellent work in this course with ease. However, {student[3]} completes the assignments and problem early and often has a lot of spare time during our work periods. Because {student[3]} has so much unused time during class periods, I would encourage {student[5]} to explore Java, another programming language. The AP Computer Science Test is actually in Java and I think that {student[2]} would do very well. I could also work with {student[2]} to think of more extension projects to do.\"\n",
    "    elif 90 < grade < 93:\n",
    "        description = f\"{student[2]} is doing well in the course. If interested, {student[3]} should explore Java, another programming language, and consider taking the AP Computer Science Test, which is in Java. With some practice, {student[2]} could potentially do very well on the test.\"\n",
    "    elif 90 > grade:\n",
    "        description = f\"I think {student[2]} should not get discouraged. With more hard work in the second semester, {student[3]} will have a lot of opportunity for improvement.\"\n",
    "    return description\n",
    "\n",
    "# These functions will comprise the third paragraph which references student performance and makes recommendations for improvement"
   ]
  },
  {
   "cell_type": "code",
   "execution_count": 92,
   "metadata": {
    "collapsed": false
   },
   "outputs": [
   ],
   "source": [
    "# Function for a general conclusive statement about the student\n",
    "\n",
    "def overall(student):\n",
    "    '''Input the student and return a conclusion statement about the student based on the cumulative grade'''\n",
    "    description = f\"This elective course does not necessarily come easily to everyone, \"\n",
    "    if float(student[23]) >= 90:\n",
    "        description = description + f\"but {student[2]} certainly handled it well. {student[3].title()} earns {p2(letter_grade(float(student[23])))} {letter_grade(float(student[23]))} for the semester, and I appreciated {student[4]} hard work.\"\n",
    "    elif float(student[23]) >= 80:\n",
    "        description = description + f\"but {student[2]} handled it fairly well. {student[3].title()} earns {p2(letter_grade(float(student[23])))} {letter_grade(float(student[23]))} for the semester, and I appreciated {student[4]} hard work.\"\n",
    "    elif float(student[23]) >= 70:\n",
    "        description = description + f\"and {student[2]} may have stuggled a little, but {student[3]} tried. {student[3].title()} earns {p2(letter_grade(float(student[23])))} {letter_grade(float(student[23]))} for the semester, and I wish {student[5]} luck for the rest of the year.\"\n",
    "    else:\n",
    "        description = description + f\"and {student[2]} struggled a lot with the material. {student[3].title()} earns {p2(letter_grade(float(student[23])))} {letter_grade(float(student[23]))} for the semester, and I wish {student[5]} luck for the rest of the year.\"\n",
    "    return description"
   ]
  },
  {
   "cell_type": "code",
   "execution_count": 93,
   "metadata": {
    "collapsed": false
   },
   "outputs": [
   ],
   "source": [
    "def comment(student):\n",
    "    '''Using all the previous functions, creates a comment for the student.'''\n",
    "    description = f\"\\t {comp_sci_description}\\n\\n\"\n",
    "    description = description + f\"\\t {work_ethic(student)} {collaboration(student)} {perseverance(student)} {seek_help(student)}\\n\\n\"\n",
    "    description = description + f\"\\t {test_grade(student)} {recommendation(student)} {extension(student)}\\n\\n\"\n",
    "    description = description + f\"\\t {overall(student)}\\n\\n\\n\"\n",
    "    return description"
   ]
  },
  {
   "cell_type": "code",
   "execution_count": 94,
   "metadata": {
    "collapsed": false
   },
   "outputs": [
    {
     "name": "stdout",
     "output_type": "stream",
     "text": [
      "Jonah Song: \n",
      "\n",
      "\n",
      "\n",
      "\t In Computer Science I: Python Language, we covered an introduction to the Python programming language. We learned how to utilize strings, variables, lists, for loops, the range function, if-then statements, logical operators, Boolean variables, imports, packages, functions, dicitonaries, loop exits, while loops, and tuples. For each of our six units, we spent one week learning and practicing the skills of that unit in an assignment, followed by another week to complete a problem qset in which we apply and synthesize the unit's skills at a higher level. Each unit concluded with a test at the end of the problem set week.\n",
      "\n",
      "\n",
      "\n",
      "\t Jonah has a good work ethic, but his habits may not be as effective as they could be. He turns in everything on time, but does not always score well. Jonah collaborates with his classmates to a satisfactory degree. From the 2 group assignments that we did this semester——the Bank Project and the Hackaton——, Jonah had a project average of 88.5. Jonah showed excellent perseverance throughout the course. His test average improved from 79.5 in the first quarter to 86.0 in the second quarter while his problem set average improved from 78.5 in the first quarter to 88.5 in the second quarter. Jonah has come to find help occasionally, but should probably come more often.\n",
      "\n",
      "\n",
      "\n",
      "\t Jonah has a little more difficulty with in-class exams; he has received B's on most tests, including an 84% on the final. With a test average of 81.8, I would recommend that Jonah comes to ask questions and get extra help. I am always free to answer questions during office hours or after school. I think Jonah should not get discouraged. With more hard work in the second semester, he will have a lot of opportunity for improvement.\n",
      "\n",
      "\n",
      "\n",
      "\t This elective course does not necessarily come easily to everyone, but Jonah handled it fairly well. He earns a B for the semester, and I appreciated his hard work.\n",
      "\n",
      "\n",
      "\n",
      "\n",
      "\n",
      "Hugh Shanno: \n",
      "\n",
      "\n",
      "\n",
      "\t In Computer Science I: Python Language, we covered an introduction to the Python programming language. We learned how to utilize strings, variables, lists, for loops, the range function, if-then statements, logical operators, Boolean variables, imports, packages, functions, dicitonaries, loop exits, while loops, and tuples. For each of our six units, we spent one week learning and practicing the skills of that unit in an assignment, followed by another week to complete a problem qset in which we apply and synthesize the unit's skills at a higher level. Each unit concluded with a test at the end of the problem set week.\n",
      "\n",
      "\n",
      "\n",
      "\t Hugh has a stellar work ethic and student habits. Hugh collaborates very well with his classmates. From the 2 group assignments that we did this semester——the Bank Project and the Hackaton——, Hugh had a project average of 99.0. Hugh persevered throughout the course, demonstrated by test improvement. His test average improved from 98.5 in the first quarter to 99.5 in the second quarter. Hugh never sought help outside of class, but did not need to as he seemed to firmly grasp the material.\n",
      "\n",
      "\n",
      "\n",
      "\t Hugh has done extremely well on in-class exams; he has received A's on most tests, including a 97% on the final. I usually recommend to my students that they come and ask me questions outside of class. But with a test average of 99.2, Hugh clearly has not needed any extra help yet. Of course, if he ever has any questions or needs any help, he should not hestitate to come by during office hours or after school. But Hugh is clearly a talented computer scientist who independently solves problems very well. Hugh is doing excellent work in this course with ease. However, he completes the assignments and problem early and often has a lot of spare time during our work periods. Because he has so much unused time during class periods, I would encourage him to explore Java, another programming language. The AP Computer Science Test is actually in Java and I think that Hugh would do very well. I could also work with Hugh to think of more extension projects to do.\n",
      "\n",
      "\n",
      "\n",
      "\t This elective course does not necessarily come easily to everyone, but Hugh certainly handled it well. He earns an A for the semester, and I appreciated his hard work.\n",
      "\n",
      "\n",
      "\n",
      "\n",
      "\n",
      "Eric Lian: \n",
      "\n",
      "\n",
      "\n",
      "\t In Computer Science I: Python Language, we covered an introduction to the Python programming language. We learned how to utilize strings, variables, lists, for loops, the range function, if-then statements, logical operators, Boolean variables, imports, packages, functions, dicitonaries, loop exits, while loops, and tuples. For each of our six units, we spent one week learning and practicing the skills of that unit in an assignment, followed by another week to complete a problem qset in which we apply and synthesize the unit's skills at a higher level. Each unit concluded with a test at the end of the problem set week.\n",
      "\n",
      "\n",
      "\n",
      "\t So far, Eric has shown that he is uninterested in the course and does not want to put in the work. He must work harder in order to salvage his grade. Eric struggled to collaborate with his classmates. From the 2 group assignments that we did this semester——the Bank Project and the Hackaton——, Eric had a project average of 72.5. Eric persevered throughout the course, demonstrated by test improvement. His test average improved from 66.25 in the first quarter to 77.5 in the second quarter. Eric has come to find help occasionally, but should probably come more often.\n",
      "\n",
      "\n",
      "\n",
      "\t Eric has not performed very well on in-class exams; he has mostly received D's on tests, including a 70.5% on the final. With a test average of 69.3, I urge Eric to come get extra help outside of class. I am always free to answer questions during office hours or after school and I think that more practice would benefit Eric a lot. I think Eric should not get discouraged. With more hard work in the second semester, he will have a lot of opportunity for improvement.\n",
      "\n",
      "\n",
      "\n",
      "\t This elective course does not necessarily come easily to everyone, and Eric struggled a lot with the material. He earns a D+ for the semester, and I wish him luck for the rest of the year.\n",
      "\n",
      "\n",
      "\n",
      "\n",
      "\n"
     ]
    }
   ],
   "source": [
    "# Creating a file for each student's comment\n",
    "# Reading in the files to make sure that they are correct\n",
    "\n",
    "for student in students:\n",
    "    fout = open(f'data\\{student[2]}.txt', 'w')\n",
    "    fout.write(student[2] + ' ' + student[0] + ': \\n\\n')\n",
    "    fout.write(comment(student))\n",
    "    fout.close()\n",
    "\n",
    "for student in students:\n",
    "    my_file = open(f'data\\{student[2]}.txt')\n",
    "    for line in my_file:\n",
    "        print(line)"
   ]
  },
  {
   "cell_type": "code",
   "execution_count": 0,
   "metadata": {
    "collapsed": false
   },
   "outputs": [
   ],
   "source": [
   ]
  }
 ],
 "metadata": {
  "kernelspec": {
   "display_name": "Python 3 (system-wide)",
   "language": "python",
   "metadata": {
    "cocalc": {
     "description": "Python 3 programming language",
     "priority": 100,
     "url": "https://www.python.org/"
    }
   },
   "name": "python3"
  },
  "language_info": {
   "codemirror_mode": {
    "name": "ipython",
    "version": 3
   },
   "file_extension": ".py",
   "mimetype": "text/x-python",
   "name": "python",
   "nbconvert_exporter": "python",
   "pygments_lexer": "ipython3",
   "version": "3.6.9"
  }
 },
 "nbformat": 4,
 "nbformat_minor": 0
}